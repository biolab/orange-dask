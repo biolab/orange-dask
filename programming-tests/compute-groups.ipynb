{
 "cells": [
  {
   "cell_type": "markdown",
   "metadata": {
    "collapsed": true,
    "pycharm": {
     "name": "#%% md\n"
    }
   },
   "source": [
    "Confirm than computations that are repeated on data groups (like in box plots) can be any faster if all of them are done at the sime time."
   ]
  },
  {
   "cell_type": "code",
   "execution_count": 25,
   "outputs": [
    {
     "name": "stdout",
     "output_type": "stream",
     "text": [
      "0.9999539442321703\n"
     ]
    }
   ],
   "source": [
    "import os\n",
    "import time\n",
    "\n",
    "import create\n",
    "import dask.array as da\n",
    "\n",
    "fn = \"t4e6_raw.hdf5\"\n",
    "\n",
    "if not os.path.exists(fn):\n",
    "    create.t4e6_raw(fn)\n",
    "\n",
    "ar = create.read_raw(fn)\n",
    "\n",
    "# to go over the file once, just so that\n",
    "# caching level is the same in all the code\n",
    "print(ar.mean().compute())"
   ],
   "metadata": {
    "collapsed": false,
    "pycharm": {
     "name": "#%%\n"
    }
   }
  },
  {
   "cell_type": "code",
   "execution_count": 26,
   "outputs": [
    {
     "name": "stdout",
     "output_type": "stream",
     "text": [
      "time to obtain groups 0.22876334190368652\n"
     ]
    }
   ],
   "source": [
    "\n",
    "attr_col_n = 42\n",
    "group_col_n = -1\n",
    "\n",
    "group_col = ar[:, group_col_n]\n",
    "attr_col = ar[:, attr_col_n]\n",
    "\n",
    "t = time.time()\n",
    "groups = da.unique(group_col).compute()\n",
    "print(\"time to obtain groups\", time.time() - t)"
   ],
   "metadata": {
    "collapsed": false,
    "pycharm": {
     "name": "#%%\n"
    }
   }
  },
  {
   "cell_type": "code",
   "execution_count": 27,
   "outputs": [
    {
     "name": "stdout",
     "output_type": "stream",
     "text": [
      "\n",
      "COMPUTE per group\n",
      "Group 0.0\n",
      "group time 0.41014671325683594\n",
      "Group 1.0\n",
      "group time 0.438091516494751\n",
      "Group 2.0\n",
      "group time 0.45922207832336426\n",
      "Group 3.0\n",
      "group time 0.4527897834777832\n",
      "[0.49499428248762584, 0.5040881892648345, 0.502314728293208, 0.5062434784045853]\n"
     ]
    }
   ],
   "source": [
    "print()\n",
    "print(\"COMPUTE per group\")\n",
    "\n",
    "means = []\n",
    "for i in groups:\n",
    "    print(\"Group\", i)\n",
    "    t = time.time()\n",
    "    m1 = attr_col[group_col == i].mean().compute()\n",
    "    print(\"group time\", time.time()-t)\n",
    "    means.append(m1)\n",
    "print(means)"
   ],
   "metadata": {
    "collapsed": false,
    "pycharm": {
     "name": "#%%\n"
    }
   }
  },
  {
   "cell_type": "code",
   "execution_count": 28,
   "outputs": [
    {
     "name": "stdout",
     "output_type": "stream",
     "text": [
      "\n",
      "COMPUTE all results\n",
      "Group 0.0\n",
      "Group 1.0\n",
      "Group 2.0\n",
      "Group 3.0\n",
      "[0.49499428 0.50408819 0.50231473 0.50624348]\n",
      "combined time 0.42580199241638184\n"
     ]
    }
   ],
   "source": [
    "print()\n",
    "print(\"COMPUTE all results\")\n",
    "\n",
    "t = time.time()\n",
    "means = []\n",
    "for i in groups:\n",
    "    print(\"Group\", i)\n",
    "    m1 = attr_col[group_col == i].mean()\n",
    "    means.append(m1)\n",
    "r = da.stack(means)\n",
    "print(r.compute())\n",
    "print(\"combined time\", time.time()-t)"
   ],
   "metadata": {
    "collapsed": false,
    "pycharm": {
     "name": "#%%\n"
    }
   }
  }
 ],
 "metadata": {
  "kernelspec": {
   "display_name": "Python 3",
   "language": "python",
   "name": "python3"
  },
  "language_info": {
   "codemirror_mode": {
    "name": "ipython",
    "version": 2
   },
   "file_extension": ".py",
   "mimetype": "text/x-python",
   "name": "python",
   "nbconvert_exporter": "python",
   "pygments_lexer": "ipython2",
   "version": "2.7.6"
  }
 },
 "nbformat": 4,
 "nbformat_minor": 0
}