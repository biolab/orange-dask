{
 "cells": [
  {
   "cell_type": "code",
   "execution_count": 1,
   "metadata": {
    "collapsed": true
   },
   "outputs": [
    {
     "name": "stdout",
     "output_type": "stream",
     "text": [
      "0.9999539442321703\n"
     ]
    }
   ],
   "source": [
    "import os\n",
    "import time\n",
    "\n",
    "import create\n",
    "import dask.array as da\n",
    "\n",
    "fn = \"t4e6_raw.hdf5\"\n",
    "\n",
    "if not os.path.exists(fn):\n",
    "    create.t4e6_raw_y(fn)\n",
    "\n",
    "X = create.read_raw(fn)\n",
    "\n",
    "# to go over the file once, just so that\n",
    "# caching level is the same in all the code\n",
    "print(X.mean().compute())"
   ]
  },
  {
   "cell_type": "code",
   "execution_count": 9,
   "outputs": [
    {
     "name": "stdout",
     "output_type": "stream",
     "text": [
      "dask.array<concatenate, shape=(20000, 20100), dtype=float64, chunksize=(4000, 4000), chunktype=numpy.ndarray>\n"
     ]
    }
   ],
   "source": [
    "import numpy.random\n",
    "\n",
    "rand = numpy.random.RandomState(0)\n",
    "add = rand.random((X.shape[0], 100)) * 42 * 2\n",
    "\n",
    "nX = da.concatenate([X, add], axis=1)\n",
    "print(nX)"
   ],
   "metadata": {
    "collapsed": false,
    "pycharm": {
     "name": "#%%\n"
    }
   }
  },
  {
   "cell_type": "code",
   "execution_count": 10,
   "outputs": [
    {
     "name": "stdout",
     "output_type": "stream",
     "text": [
      "dask.array<mean_agg-aggregate, shape=(20100,), dtype=float64, chunksize=(4000,), chunktype=numpy.ndarray>\n",
      "mean 1.4845833778381348\n",
      "[ 0.50319514  0.50295066  0.50129844 ... 42.06076078 41.75073048\n",
      " 41.92828452]\n"
     ]
    }
   ],
   "source": [
    "t = time.time()\n",
    "r = nX.mean(axis=0)\n",
    "print(r)\n",
    "cr = r.compute()\n",
    "print(\"mean\", time.time() - t)\n",
    "print(cr)"
   ],
   "metadata": {
    "collapsed": false,
    "pycharm": {
     "name": "#%%\n"
    }
   }
  }
 ],
 "metadata": {
  "kernelspec": {
   "display_name": "Python 3",
   "language": "python",
   "name": "python3"
  },
  "language_info": {
   "codemirror_mode": {
    "name": "ipython",
    "version": 2
   },
   "file_extension": ".py",
   "mimetype": "text/x-python",
   "name": "python",
   "nbconvert_exporter": "python",
   "pygments_lexer": "ipython2",
   "version": "2.7.6"
  }
 },
 "nbformat": 4,
 "nbformat_minor": 0
}