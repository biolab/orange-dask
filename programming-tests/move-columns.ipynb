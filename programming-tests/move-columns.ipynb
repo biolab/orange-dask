{
 "cells": [
  {
   "cell_type": "code",
   "execution_count": 1,
   "metadata": {
    "collapsed": true
   },
   "outputs": [
    {
     "name": "stdout",
     "output_type": "stream",
     "text": [
      "1.0000088208270685\n",
      "0.9999617160441172\n"
     ]
    }
   ],
   "source": [
    "import os\n",
    "import time\n",
    "\n",
    "import create\n",
    "import dask.array as da\n",
    "\n",
    "fn = \"t4e6_raw_y.hdf5\"\n",
    "\n",
    "if not os.path.exists(fn):\n",
    "    create.t4e6_raw_y(fn)\n",
    "\n",
    "X, Y = create.read_raw(fn)\n",
    "\n",
    "# to go over the file once, just so that\n",
    "# caching level is the same in all the code\n",
    "print(X.mean().compute())\n",
    "print(Y.mean().compute())"
   ]
  },
  {
   "cell_type": "code",
   "execution_count": 10,
   "outputs": [
    {
     "name": "stdout",
     "output_type": "stream",
     "text": [
      "mean 1.522629737854004\n",
      "[1.00082945 0.99851981 0.99655445 ... 1.00496537 1.00658253 1.00006337]\n"
     ]
    }
   ],
   "source": [
    "t = time.time()\n",
    "r = X.mean(axis=1)\n",
    "cr = r.compute()\n",
    "print(\"mean\", time.time() - t)\n",
    "print(cr)"
   ],
   "metadata": {
    "collapsed": false,
    "pycharm": {
     "name": "#%%\n"
    }
   }
  },
  {
   "cell_type": "code",
   "execution_count": 5,
   "outputs": [
    {
     "name": "stdout",
     "output_type": "stream",
     "text": [
      "dask.array<concatenate, shape=(20000, 20010), dtype=float64, chunksize=(4000, 4000), chunktype=numpy.ndarray>\n",
      "dask.array<concatenate, shape=(20000, 19990), dtype=float64, chunksize=(4000, 4000), chunktype=numpy.ndarray>\n"
     ]
    }
   ],
   "source": [
    "# move 10 columns from X to Y\n",
    "nX = da.concatenate([X, Y[:, 42:52]], axis=1)\n",
    "nY = da.concatenate([Y[:, :42], Y[:, 52:]], axis=1)\n",
    "print(nX)\n",
    "print(nY)"
   ],
   "metadata": {
    "collapsed": false,
    "pycharm": {
     "name": "#%%\n"
    }
   }
  },
  {
   "cell_type": "code",
   "execution_count": 11,
   "outputs": [
    {
     "name": "stdout",
     "output_type": "stream",
     "text": [
      "mean 1.634140968322754\n",
      "[1.00053781 0.99822997 0.99631199 ... 1.00471136 1.00629082 0.99984098]\n"
     ]
    }
   ],
   "source": [
    "t = time.time()\n",
    "r = nX.mean(axis=1)\n",
    "cr = r.compute()\n",
    "print(\"mean\", time.time() - t)\n",
    "print(cr)"
   ],
   "metadata": {
    "collapsed": false,
    "pycharm": {
     "name": "#%%\n"
    }
   }
  }
 ],
 "metadata": {
  "kernelspec": {
   "display_name": "Python 3",
   "language": "python",
   "name": "python3"
  },
  "language_info": {
   "codemirror_mode": {
    "name": "ipython",
    "version": 2
   },
   "file_extension": ".py",
   "mimetype": "text/x-python",
   "name": "python",
   "nbconvert_exporter": "python",
   "pygments_lexer": "ipython2",
   "version": "2.7.6"
  }
 },
 "nbformat": 4,
 "nbformat_minor": 0
}