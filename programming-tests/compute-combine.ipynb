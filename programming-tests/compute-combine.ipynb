{
 "cells": [
  {
   "cell_type": "code",
   "execution_count": null,
   "outputs": [],
   "source": [
    "\"\"\"\n",
    "Test how does dask handle multiple operations that need to read the same data.\n",
    "\n",
    "Results show that at least for (mean, min, max, var) the overhead decreases\n",
    "substantially when calling compute() after da.stack\n",
    "\"\"\""
   ],
   "metadata": {
    "collapsed": false,
    "pycharm": {
     "name": "#%%\n"
    }
   }
  },
  {
   "cell_type": "code",
   "execution_count": 3,
   "outputs": [
    {
     "name": "stdout",
     "output_type": "stream",
     "text": [
      "dask.array<array, shape=(20000, 20000), dtype=float64, chunksize=(4000, 4000), chunktype=numpy.ndarray>\n",
      "\n",
      "COMPUTE SEPARETELY\n",
      "\n",
      "REPETITION 0\n",
      "mean 1.6078178882598877\n",
      "[0.99114669 1.00532354 1.0106938  ... 1.00553299 0.99937319 0.99282876]\n",
      "min 1.674778699874878\n",
      "[0. 0. 0. ... 0. 0. 0.]\n",
      "max 1.5857124328613281\n",
      "[3. 3. 3. ... 3. 3. 3.]\n",
      "var 3.0815768241882324\n",
      "[0.9040912  0.91690765 0.93659773 ... 0.92337104 0.91253819 0.905121  ]\n",
      "\n",
      "REPETITION 1\n",
      "mean 2.189591407775879\n",
      "[0.99114669 1.00532354 1.0106938  ... 1.00553299 0.99937319 0.99282876]\n",
      "min 1.616518259048462\n",
      "[0. 0. 0. ... 0. 0. 0.]\n",
      "max 1.5758085250854492\n",
      "[3. 3. 3. ... 3. 3. 3.]\n",
      "var 3.30293607711792\n",
      "[0.9040912  0.91690765 0.93659773 ... 0.92337104 0.91253819 0.905121  ]\n",
      "\n",
      "COMPUTE JOINTLY\n",
      "dask.array<stack, shape=(3, 20000), dtype=float64, chunksize=(1, 4000), chunktype=numpy.ndarray>\n",
      "without var 2.1371119022369385\n",
      "[[0.99114669 1.00532354 1.0106938  ... 1.00553299 0.99937319 0.99282876]\n",
      " [0.         0.         0.         ... 0.         0.         0.        ]\n",
      " [3.         3.         3.         ... 3.         3.         3.        ]]\n",
      "dask.array<stack, shape=(4, 20000), dtype=float64, chunksize=(1, 4000), chunktype=numpy.ndarray>\n",
      "with var 2.836031913757324\n",
      "[[0.99114669 1.00532354 1.0106938  ... 1.00553299 0.99937319 0.99282876]\n",
      " [0.         0.         0.         ... 0.         0.         0.        ]\n",
      " [3.         3.         3.         ... 3.         3.         3.        ]\n",
      " [0.9040912  0.91690765 0.93659773 ... 0.92337104 0.91253819 0.905121  ]]\n"
     ]
    }
   ],
   "source": [
    "import os\n",
    "import time\n",
    "\n",
    "import create\n",
    "import dask.array as da\n",
    "\n",
    "fn = \"t4e6_raw.hdf5\"\n",
    "\n",
    "if not os.path.exists(fn):\n",
    "    create.t4e6_raw(fn)\n",
    "\n",
    "ar = create.read_raw(fn)\n",
    "print(ar)\n",
    "\n",
    "print()\n",
    "print(\"COMPUTE SEPARETELY\")\n",
    "\n",
    "for rep in range(2):\n",
    "    print()\n",
    "    print(\"REPETITION\", rep)\n",
    "\n",
    "    t = time.time()\n",
    "    sums = ar.mean(axis=1)\n",
    "    csums = sums.compute()\n",
    "    print(\"mean\", time.time() - t)\n",
    "    print(csums)\n",
    "\n",
    "    t = time.time()\n",
    "    sums = ar.min(axis=1)\n",
    "    csums = sums.compute()\n",
    "    print(\"min\", time.time() - t)\n",
    "    print(csums)\n",
    "\n",
    "    t = time.time()\n",
    "    sums = ar.max(axis=1)\n",
    "    csums = sums.compute()\n",
    "    print(\"max\", time.time() - t)\n",
    "    print(csums)\n",
    "\n",
    "    t = time.time()\n",
    "    sums = ar.var(axis=1)\n",
    "    csums = sums.compute()\n",
    "    print(\"var\", time.time() - t)\n",
    "    print(csums)\n",
    "\n",
    "print()\n",
    "print(\"COMPUTE JOINTLY\")\n",
    "\n",
    "t = time.time()\n",
    "con = da.stack([ar.mean(axis=1), ar.min(axis=1), ar.max(axis=1)])\n",
    "print(con)\n",
    "ccon = con.compute()\n",
    "print(\"without var\", time.time() - t)\n",
    "print(ccon)\n",
    "\n",
    "t = time.time()\n",
    "con = da.stack([ar.mean(axis=1), ar.min(axis=1), ar.max(axis=1), ar.var(axis=1)])\n",
    "print(con)\n",
    "ccon = con.compute()\n",
    "print(\"with var\", time.time() - t)\n",
    "print(ccon)"
   ],
   "metadata": {
    "collapsed": false,
    "pycharm": {
     "name": "#%%\n"
    }
   }
  },
  {
   "cell_type": "code",
   "execution_count": null,
   "outputs": [],
   "source": [],
   "metadata": {
    "collapsed": false,
    "pycharm": {
     "name": "#%%\n"
    }
   }
  }
 ],
 "metadata": {
  "kernelspec": {
   "display_name": "Python 3",
   "language": "python",
   "name": "python3"
  },
  "language_info": {
   "codemirror_mode": {
    "name": "ipython",
    "version": 2
   },
   "file_extension": ".py",
   "mimetype": "text/x-python",
   "name": "python",
   "nbconvert_exporter": "python",
   "pygments_lexer": "ipython2",
   "version": "2.7.6"
  }
 },
 "nbformat": 4,
 "nbformat_minor": 0
}