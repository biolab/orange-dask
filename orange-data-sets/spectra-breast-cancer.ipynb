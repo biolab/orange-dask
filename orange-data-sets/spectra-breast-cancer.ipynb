{
 "cells": [
  {
   "cell_type": "code",
   "execution_count": 1,
   "metadata": {
    "collapsed": true,
    "pycharm": {
     "name": "#%%\n"
    }
   },
   "outputs": [
    {
     "name": "stdout",
     "output_type": "stream",
     "text": [
      "data size: 13.008 GB\n",
      "x: dask.array<getitem, shape=(1000, 2000, 1626), dtype=float32, chunksize=(100, 100, 1626), chunktype=numpy.ndarray>\n",
      "wns: [ 750.  752.  754. ... 3996. 3998. 4000.]\n"
     ]
    }
   ],
   "source": [
    "import os\n",
    "\n",
    "import h5py\n",
    "import dask.array as da\n",
    "import numpy as np\n",
    "\n",
    "# Breast cancer tissue microarray from Mayerich\n",
    "# https://stim.ee.uh.edu/resources/data-sets/\n",
    "\n",
    "# the file was converted from hdr to hdf5 with better reading with\n",
    "# dask, see case-studies-scripts/spectra-breast-cancer-pca.ipynb\n",
    "\n",
    "fn = \"/slow/marko/stone/n/brc961-br1001.hdf5\"  # 116 GB\n",
    "\n",
    "f = h5py.File(fn, \"r\")\n",
    "data = f[\"data\"]\n",
    "x = da.from_array(data, chunks=(100, 100, -1))\n",
    "\n",
    "x = x[:1000, :2000, :]\n",
    "wns = np.array(f[\"wavelength\"])\n",
    "\n",
    "print(\"data size:\", x.size*4/1e9, \"GB\")\n",
    "print(\"x:\", x)\n",
    "print(\"wns:\", wns)"
   ]
  },
  {
   "cell_type": "code",
   "execution_count": 2,
   "outputs": [],
   "source": [
    "import os\n",
    "import pickle\n",
    "\n",
    "import Orange\n",
    "from Orange.data import Domain, Table, ContinuousVariable\n",
    "\n",
    "\n",
    "def metatable_maplocs(x_locs, y_locs):\n",
    "    \"\"\" Create an Orange table containing (x,y) map locations as metas. \"\"\"\n",
    "    x_locs = np.asarray(x_locs)\n",
    "    y_locs = np.asarray(y_locs)\n",
    "    metas = np.vstack((x_locs, y_locs)).T\n",
    "\n",
    "    domain = Domain([], None,\n",
    "                    metas=[ContinuousVariable.make(\"map_x\"),\n",
    "                           ContinuousVariable.make(\"map_y\")]\n",
    "                    )\n",
    "    data = Table.from_numpy(domain, X=np.zeros((len(metas), 0)),\n",
    "                            metas=np.asarray(metas, dtype=object))\n",
    "    return data\n",
    "\n",
    "\n",
    "def spectra_from_image(X, features, x_locs, y_locs):\n",
    "    # each spectrum has its own row\n",
    "    spectra = X.reshape((X.shape[0]*X.shape[1], X.shape[2]))\n",
    "\n",
    "    # locations\n",
    "    y_loc = np.repeat(np.arange(X.shape[0]), X.shape[1])\n",
    "    x_loc = np.tile(np.arange(X.shape[1]), X.shape[0])\n",
    "    meta_table = metatable_maplocs(x_locs[x_loc], y_locs[y_loc])\n",
    "\n",
    "    return features, spectra, meta_table"
   ],
   "metadata": {
    "collapsed": false,
    "pycharm": {
     "name": "#%%\n"
    }
   }
  },
  {
   "cell_type": "code",
   "execution_count": 3,
   "outputs": [
    {
     "name": "stdout",
     "output_type": "stream",
     "text": [
      "CPU times: user 469 ms, sys: 1.56 s, total: 2.03 s\n",
      "Wall time: 11.4 s\n"
     ]
    }
   ],
   "source": [
    "%%time\n",
    "\n",
    "sx = x[200:400, 200:400, :]\n",
    "\n",
    "def create_orange_table(filename, x, wns, xcoords, ycoords):\n",
    "    if os.path.exists(filename):\n",
    "        os.unlink(filename)\n",
    "\n",
    "    wns, x, meta = spectra_from_image(x, wns, xcoords, ycoords)\n",
    "\n",
    "    da.to_hdf5(filename, \"/X\", x)\n",
    "\n",
    "    atts = [Orange.data.ContinuousVariable(\"%f\" % wn) for wn in wns]\n",
    "\n",
    "    domain = Orange.data.Domain(atts, meta.domain.class_vars, meta.domain.metas)\n",
    "\n",
    "    with h5py.File(filename, 'r+') as f:\n",
    "        f.create_dataset(\"Y\", data=meta.Y)\n",
    "        f.create_dataset(\"domain\", data=np.void(pickle.dumps(domain)))\n",
    "        f.create_dataset(\"metas\", data=np.void(pickle.dumps(meta.metas)))\n",
    "\n",
    "create_orange_table(\"/slow/marko/stone/n/brc961-br1001-orange-small.hdf5\", sx, wns, np.arange(200, 400), np.arange(200, 400))"
   ],
   "metadata": {
    "collapsed": false,
    "pycharm": {
     "name": "#%%\n"
    }
   }
  },
  {
   "cell_type": "code",
   "execution_count": 4,
   "outputs": [
    {
     "name": "stdout",
     "output_type": "stream",
     "text": [
      "CPU times: user 39.9 s, sys: 1min 25s, total: 2min 5s\n",
      "Wall time: 9min 57s\n"
     ]
    }
   ],
   "source": [
    "%%time\n",
    "create_orange_table(\"/slow/marko/stone/n/brc961-br1001-orange.hdf5\", x, wns, np.arange(x.shape[1]), np.arange(x.shape[0]))"
   ],
   "metadata": {
    "collapsed": false,
    "pycharm": {
     "name": "#%%\n"
    }
   }
  }
 ],
 "metadata": {
  "kernelspec": {
   "display_name": "Python 3",
   "language": "python",
   "name": "python3"
  },
  "language_info": {
   "codemirror_mode": {
    "name": "ipython",
    "version": 2
   },
   "file_extension": ".py",
   "mimetype": "text/x-python",
   "name": "python",
   "nbconvert_exporter": "python",
   "pygments_lexer": "ipython2",
   "version": "2.7.6"
  }
 },
 "nbformat": 4,
 "nbformat_minor": 0
}