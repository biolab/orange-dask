{
 "cells": [
  {
   "cell_type": "code",
   "execution_count": 1,
   "metadata": {},
   "outputs": [],
   "source": [
    "import Orange\n",
    "import glob\n",
    "import pickle\n",
    "import h5py\n",
    "import numpy as np\n",
    "import pandas as pd\n",
    "import dask.array as da\n",
    "\n",
    "from Orange.data import Domain, ContinuousVariable, StringVariable\n",
    "\n",
    "TCGA_FILENAMES = glob.glob('/Users/jakakokosar/OneDrive/dev/data/TCGA/TCGA-*[!metas].csv')\n",
    "df = pd.concat(map(pd.read_csv, TCGA_FILENAMES))\n",
    "df = df.set_index('sample_id')\n"
   ]
  },
  {
   "cell_type": "code",
   "execution_count": 19,
   "metadata": {},
   "outputs": [],
   "source": [
    "atts = [ContinuousVariable(gene) for gene in df.columns] \n",
    "domain = Domain(atts, None, [StringVariable(df.index.name)])\n",
    "\n",
    "with h5py.File('tcga-samples.hdf5', 'w') as f:\n",
    "    f.create_dataset('X', data=df.values)\n",
    "    f.create_dataset('domain', data=np.void(pickle.dumps(domain)))\n",
    "    f.create_dataset('metas', data=np.void(pickle.dumps(np.asarray(df.index).reshape(-1, 1))))"
   ]
  },
  {
   "cell_type": "code",
   "execution_count": 25,
   "metadata": {},
   "outputs": [
    {
     "name": "stdout",
     "output_type": "stream",
     "text": [
      "dask.array<array, shape=(11093, 60483), dtype=float64, chunksize=(4096, 4096), chunktype=numpy.ndarray> (11093, 1) 60484\n"
     ]
    }
   ],
   "source": [
    "with h5py.File('tcga-samples.hdf5', 'r') as f:\n",
    "    domain = pickle.loads(f['domain'][()])\n",
    "    metas = pickle.loads(f['metas'][()])\n",
    "    X = da.from_array(f['X'])\n",
    "    print(X, metas.shape, len(domain))"
   ]
  },
  {
   "cell_type": "code",
   "execution_count": null,
   "metadata": {},
   "outputs": [],
   "source": []
  }
 ],
 "metadata": {
  "kernelspec": {
   "display_name": "Python 3.9.9 ('orange')",
   "language": "python",
   "name": "python3"
  },
  "language_info": {
   "codemirror_mode": {
    "name": "ipython",
    "version": 3
   },
   "file_extension": ".py",
   "mimetype": "text/x-python",
   "name": "python",
   "nbconvert_exporter": "python",
   "pygments_lexer": "ipython3",
   "version": "3.9.9"
  },
  "orig_nbformat": 4,
  "vscode": {
   "interpreter": {
    "hash": "34ee6e43fd02f1df4322c48b94db4849a68f55f527a612f8b196227417e919f6"
   }
  }
 },
 "nbformat": 4,
 "nbformat_minor": 2
}
