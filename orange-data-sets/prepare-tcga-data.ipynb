{
 "cells": [
  {
   "cell_type": "markdown",
   "metadata": {},
   "source": [
    "# Data preparation\n",
    "\n",
    "Getting the desired data from the GDC portal can be a complicated task. We need all TCGA datasets with gene expression data and corresponding clinical data for this project. One can do this manually, but we have created scripts to help with this task. Please go to this link for more information: https://github.com/jakakokosar/tcga-data.\n",
    "\n",
    "To run this notebook, you need to prepare a folder with separate CSV files of all TCGA projects:\n",
    "\n",
    "```plaintext\n",
    "tcga_data/\n",
    "|-- TCGA-ACC.csv\n",
    "|-- TCGA-BLCA.csv\n",
    "|-- TCGA-BRCA.csv\n",
    "|-- ... (all other projects)\n",
    "```\n",
    "\n",
    "The CSV files should have the following columns:\n",
    "\n",
    "```plaintext\n",
    "samples,time,event,<genes>...\n",
    "```"
   ]
  },
  {
   "cell_type": "code",
   "execution_count": null,
   "metadata": {},
   "outputs": [],
   "source": [
    "import glob\n",
    "import pandas as pd\n",
    "\n",
    "files = glob.glob('tcga_data/*.csv')\n",
    "df_list = []\n",
    "for f in files:\n",
    "    df = pd.read_csv(f, index_col=0)\n",
    "    df.insert(loc=0, column='tcga', value=[f.split('/')[-1].split('.')[0]]*len(df))\n",
    "    df_list.append(df)\n",
    "    print(f'completed {f}')"
   ]
  },
  {
   "cell_type": "markdown",
   "metadata": {},
   "source": [
    "### Now combine all datasets into one CSV file and save to disk as 'TCGA-combined-temp.csv.'"
   ]
  },
  {
   "cell_type": "code",
   "execution_count": 5,
   "metadata": {},
   "outputs": [],
   "source": [
    "combined_df = pd.concat(df_list, axis = 0)\n",
    "combined_df.to_csv('TCGA-combined-temp.csv')"
   ]
  },
  {
   "cell_type": "markdown",
   "metadata": {},
   "source": [
    "### Finally, open CSV as an Orange data table and edit the domain accordingly."
   ]
  },
  {
   "cell_type": "code",
   "execution_count": null,
   "metadata": {},
   "outputs": [],
   "source": [
    "import Orange\n",
    "from Orange.data import ContinuousVariable, Domain\n",
    "\n",
    "table = Orange.data.Table('TCGA-combined-temp.csv')\n",
    "\n",
    "# change all attributes to continuous\n",
    "genes = [ContinuousVariable(attr.name) for attr in table.domain if attr.name.startswith('ENSG')]\n",
    "\n",
    "# meta attributes\n",
    "metas = [attr for attr in table.domain if attr.name in ['time', 'event', 'tcga', 'samples']]\n",
    "\n",
    "# Save newly created data table as CSV and HDF5\n",
    "table_transformed = table.transform(Domain(genes, metas=metas))\n",
    "table_transformed.save('TCGA-combined.csv')"
   ]
  },
  {
   "cell_type": "markdown",
   "metadata": {},
   "source": [
    "###  To work with large files in Orange, we need them to be saved in the correct format. A detailed explanation can be found here: https://orangedatamining.com/blog/2023/2023-10-24-dask-all-folks/\n",
    "\n",
    "### You can already find Dask supported dataset here: https://file.biolab.si/dask/TCGA-combined.hdf5"
   ]
  }
 ],
 "metadata": {
  "kernelspec": {
   "display_name": "dev",
   "language": "python",
   "name": "python3"
  },
  "language_info": {
   "codemirror_mode": {
    "name": "ipython",
    "version": 3
   },
   "file_extension": ".py",
   "mimetype": "text/x-python",
   "name": "python",
   "nbconvert_exporter": "python",
   "pygments_lexer": "ipython3",
   "version": "3.10.12"
  },
  "orig_nbformat": 4
 },
 "nbformat": 4,
 "nbformat_minor": 2
}
